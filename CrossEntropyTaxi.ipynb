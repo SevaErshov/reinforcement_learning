{
 "cells": [
  {
   "cell_type": "markdown",
   "id": "4e4f36f1-748f-4f4e-b78b-e0b9a385bc42",
   "metadata": {},
   "source": [
    "# Обучение Taxi-v3 из Gymnasium при помощи кросс-энтропийного метода\n",
    "\n",
    "Ноутбук сделан на основе материалов практического задания [курса](https://ods.ai/tracks/drlcourse23/tasks/drl23_hw_1)."
   ]
  },
  {
   "cell_type": "code",
   "execution_count": 1,
   "id": "b2acb639-2744-415b-993a-cbc92532436a",
   "metadata": {},
   "outputs": [
    {
     "name": "stdout",
     "output_type": "stream",
     "text": [
      "iteration: 0 mean total reward: -768.38\n",
      "iteration: 1 mean total reward: -655.44\n",
      "iteration: 2 mean total reward: -496.949\n",
      "iteration: 3 mean total reward: -268.417\n",
      "iteration: 4 mean total reward: -115.642\n",
      "iteration: 5 mean total reward: -49.788\n",
      "iteration: 6 mean total reward: -17.655\n",
      "iteration: 7 mean total reward: -2.175\n",
      "iteration: 8 mean total reward: 2.911\n",
      "iteration: 9 mean total reward: 4.708\n",
      "iteration: 10 mean total reward: 5.384\n",
      "iteration: 11 mean total reward: 5.361\n",
      "iteration: 12 mean total reward: 5.5\n",
      "iteration: 13 mean total reward: 5.929\n",
      "iteration: 14 mean total reward: 6.32\n",
      "iteration: 15 mean total reward: 5.944\n",
      "iteration: 16 mean total reward: 5.962\n",
      "iteration: 17 mean total reward: 6.009\n",
      "iteration: 18 mean total reward: 6.367\n",
      "iteration: 19 mean total reward: 6.0\n",
      "total reward: 11\n",
      "model:\n",
      "[[0.16666667 0.16666667 0.16666667 0.16666667 0.16666667 0.16666667]\n",
      " [0.         0.         0.         0.         1.         0.        ]\n",
      " [0.         0.         0.         0.         1.         0.        ]\n",
      " ...\n",
      " [0.         0.         0.         1.         0.         0.        ]\n",
      " [0.         0.         0.33333333 0.66666667 0.         0.        ]\n",
      " [0.         0.         0.         1.         0.         0.        ]]\n"
     ]
    }
   ],
   "source": [
    "import gym\n",
    "import numpy as np\n",
    "from src.agents import CrossEntropyAgent\n",
    "from src.utils import get_trajectory, evaluate_agent\n",
    "\n",
    "\n",
    "env = gym.make(\"Taxi-v3\")\n",
    "state_n = 500\n",
    "action_n = 6\n",
    "\n",
    "\n",
    "agent = CrossEntropyAgent(state_n, action_n)\n",
    "q_param = 0.75\n",
    "iteration_n = 20\n",
    "trajectory_n = 1000\n",
    "\n",
    "for iteration in range(iteration_n):\n",
    "\n",
    "    #policy evaluation\n",
    "    trajectories = [get_trajectory(env, agent) for _ in range(trajectory_n)]\n",
    "    total_rewards = [np.sum(trajectory['rewards']) for trajectory in trajectories]\n",
    "    print('iteration:', iteration, 'mean total reward:', np.mean(total_rewards))\n",
    "\n",
    "    #policy improvement\n",
    "    quantile = np.quantile(total_rewards, q_param)\n",
    "    elite_trajectories = []\n",
    "    for trajectory in trajectories:\n",
    "        total_reward = np.sum(trajectory['rewards'])\n",
    "        if total_reward > quantile:\n",
    "            elite_trajectories.append(trajectory)\n",
    "\n",
    "    agent.fit(elite_trajectories)\n",
    "\n",
    "trajectory = get_trajectory(env, agent, max_len=100)\n",
    "print('total reward:', sum(trajectory['rewards']))\n",
    "print('model:')\n",
    "print(agent.model)"
   ]
  },
  {
   "cell_type": "code",
   "execution_count": 17,
   "id": "9acea602-6dd2-433f-ba41-003640cf11df",
   "metadata": {},
   "outputs": [
    {
     "name": "stdout",
     "output_type": "stream",
     "text": [
      "Reward: 6.39±6.55\n"
     ]
    }
   ],
   "source": [
    "mean, std = evaluate_agent(env, agent, 100)\n",
    "print(f'Reward: {mean.round(2)}±{std.round(2)}')"
   ]
  },
  {
   "cell_type": "code",
   "execution_count": null,
   "id": "faaf2ea5-4f24-425d-ad0c-ae735755412a",
   "metadata": {},
   "outputs": [],
   "source": []
  }
 ],
 "metadata": {
  "kernelspec": {
   "display_name": "RLenv",
   "language": "python",
   "name": "rlenv"
  },
  "language_info": {
   "codemirror_mode": {
    "name": "ipython",
    "version": 3
   },
   "file_extension": ".py",
   "mimetype": "text/x-python",
   "name": "python",
   "nbconvert_exporter": "python",
   "pygments_lexer": "ipython3",
   "version": "3.10.9"
  }
 },
 "nbformat": 4,
 "nbformat_minor": 5
}
