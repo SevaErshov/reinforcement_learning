{
 "cells": [
  {
   "cell_type": "markdown",
   "id": "4e4f36f1-748f-4f4e-b78b-e0b9a385bc42",
   "metadata": {},
   "source": [
    "# Обучение Taxi-v3 из Gymnasium при помощи кросс-энтропийного метода\n",
    "\n",
    "Ноутбук сделан на основе материалов практического задания [курса](https://ods.ai/tracks/drlcourse23/tasks/drl23_hw_1)."
   ]
  },
  {
   "cell_type": "code",
   "execution_count": 1,
   "id": "b2acb639-2744-415b-993a-cbc92532436a",
   "metadata": {},
   "outputs": [],
   "source": [
    "import gym\n",
    "import numpy as np\n",
    "from src.agents import CrossEntropyAgent\n",
    "from src.utils import get_trajectory, evaluate_agent\n",
    "from hydra import compose, initialize\n",
    "\n",
    "\n",
    "config_path = 'configs/taxiv3/'\n",
    "initialize(version_base=None, config_path=config_path)\n",
    "cfg = compose(config_name=\"config\")"
   ]
  },
  {
   "cell_type": "code",
   "execution_count": 32,
   "id": "5d91ce68-e542-43aa-97fb-d23bb79e7f8e",
   "metadata": {},
   "outputs": [],
   "source": [
    "cfg = compose(config_name=\"config\")"
   ]
  },
  {
   "cell_type": "code",
   "execution_count": 33,
   "id": "6ae6068d-ea00-49b7-bec8-0134569099d2",
   "metadata": {},
   "outputs": [
    {
     "name": "stdout",
     "output_type": "stream",
     "text": [
      "iteration: 0 mean total reward: -766.61\n",
      "iteration: 1 mean total reward: -682.484\n",
      "iteration: 2 mean total reward: -580.202\n",
      "iteration: 3 mean total reward: -460.93\n",
      "iteration: 4 mean total reward: -297.426\n",
      "iteration: 5 mean total reward: -161.062\n",
      "iteration: 6 mean total reward: -86.585\n",
      "iteration: 7 mean total reward: -45.662\n",
      "iteration: 8 mean total reward: -18.505\n",
      "iteration: 9 mean total reward: -3.542\n",
      "iteration: 10 mean total reward: 3.431\n",
      "iteration: 11 mean total reward: 5.131\n",
      "iteration: 12 mean total reward: 5.974\n",
      "iteration: 13 mean total reward: 6.616\n",
      "iteration: 14 mean total reward: 6.559\n",
      "iteration: 15 mean total reward: 6.726\n",
      "iteration: 16 mean total reward: 7.026\n",
      "iteration: 17 mean total reward: 7.122\n",
      "iteration: 18 mean total reward: 7.245\n",
      "iteration: 19 mean total reward: 6.881\n",
      "iteration: 20 mean total reward: 6.862\n",
      "iteration: 21 mean total reward: 6.898\n",
      "iteration: 22 mean total reward: 7.08\n",
      "iteration: 23 mean total reward: 6.999\n",
      "iteration: 24 mean total reward: 7.128\n",
      "iteration: 25 mean total reward: 7.074\n",
      "iteration: 26 mean total reward: 6.698\n",
      "iteration: 27 mean total reward: 7.339\n",
      "iteration: 28 mean total reward: 6.771\n",
      "iteration: 29 mean total reward: 7.064\n",
      "iteration: 30 mean total reward: 7.096\n",
      "iteration: 31 mean total reward: 7.103\n",
      "iteration: 32 mean total reward: 6.899\n",
      "iteration: 33 mean total reward: 6.96\n",
      "iteration: 34 mean total reward: 6.713\n",
      "iteration: 35 mean total reward: 7.046\n",
      "iteration: 36 mean total reward: 6.964\n",
      "iteration: 37 mean total reward: 7.274\n",
      "iteration: 38 mean total reward: 7.172\n",
      "iteration: 39 mean total reward: 7.305\n",
      "iteration: 40 mean total reward: 7.197\n",
      "iteration: 41 mean total reward: 7.14\n",
      "iteration: 42 mean total reward: 7.137\n",
      "iteration: 43 mean total reward: 7.129\n",
      "iteration: 44 mean total reward: 6.663\n",
      "iteration: 45 mean total reward: 6.984\n",
      "iteration: 46 mean total reward: 7.172\n",
      "iteration: 47 mean total reward: 6.918\n",
      "iteration: 48 mean total reward: 7.12\n",
      "iteration: 49 mean total reward: 7.093\n"
     ]
    }
   ],
   "source": [
    "env = gym.make(cfg.env.name)\n",
    "state_n = cfg.env.state_n\n",
    "action_n = cfg.env.action_n\n",
    "\n",
    "\n",
    "agent = CrossEntropyAgent(state_n, action_n)\n",
    "q_param = cfg.params.q_param\n",
    "iteration_n = cfg.params.iteration_n\n",
    "trajectory_n = cfg.params.trajectory_n\n",
    "\n",
    "for iteration in range(iteration_n):\n",
    "\n",
    "    #policy evaluation\n",
    "    trajectories = [get_trajectory(env, agent) for _ in range(trajectory_n)]\n",
    "    total_rewards = [np.sum(trajectory['rewards']) for trajectory in trajectories]\n",
    "    print('iteration:', iteration, 'mean total reward:', np.mean(total_rewards))\n",
    "\n",
    "    #policy improvement\n",
    "    quantile = np.quantile(total_rewards, q_param)\n",
    "    elite_trajectories = []\n",
    "    for trajectory in trajectories:\n",
    "        total_reward = np.sum(trajectory['rewards'])\n",
    "        if total_reward > quantile:\n",
    "            elite_trajectories.append(trajectory)\n",
    "\n",
    "    agent.fit(elite_trajectories)"
   ]
  },
  {
   "cell_type": "code",
   "execution_count": 34,
   "id": "c0acb08d-ed7c-453a-96b7-27228cb8ab07",
   "metadata": {},
   "outputs": [
    {
     "name": "stdout",
     "output_type": "stream",
     "text": [
      "total reward: 7\n",
      "model:\n",
      "[[0.16666667 0.16666667 0.16666667 0.16666667 0.16666667 0.16666667]\n",
      " [0.         0.         0.         0.         1.         0.        ]\n",
      " [0.         0.         0.         0.         1.         0.        ]\n",
      " ...\n",
      " [0.         1.         0.         0.         0.         0.        ]\n",
      " [0.         0.66666667 0.33333333 0.         0.         0.        ]\n",
      " [0.         0.         0.         1.         0.         0.        ]]\n"
     ]
    }
   ],
   "source": [
    "trajectory = get_trajectory(env, agent, max_len=cfg.params.trajectory.max_len)\n",
    "print('total reward:', sum(trajectory['rewards']))\n",
    "print('model:')\n",
    "print(agent.model)"
   ]
  },
  {
   "cell_type": "code",
   "execution_count": 36,
   "id": "9acea602-6dd2-433f-ba41-003640cf11df",
   "metadata": {},
   "outputs": [
    {
     "name": "stdout",
     "output_type": "stream",
     "text": [
      "Reward: 6.97±5.62\n"
     ]
    }
   ],
   "source": [
    "mean, std = evaluate_agent(env, agent, 10000)\n",
    "print(f'Reward: {mean.round(2)}±{std.round(2)}')"
   ]
  },
  {
   "cell_type": "code",
   "execution_count": null,
   "id": "22fecee8-4602-4954-9e18-f1f6a3044fce",
   "metadata": {},
   "outputs": [],
   "source": []
  }
 ],
 "metadata": {
  "kernelspec": {
   "display_name": "RLenv",
   "language": "python",
   "name": "rlenv"
  },
  "language_info": {
   "codemirror_mode": {
    "name": "ipython",
    "version": 3
   },
   "file_extension": ".py",
   "mimetype": "text/x-python",
   "name": "python",
   "nbconvert_exporter": "python",
   "pygments_lexer": "ipython3",
   "version": "3.10.9"
  }
 },
 "nbformat": 4,
 "nbformat_minor": 5
}
