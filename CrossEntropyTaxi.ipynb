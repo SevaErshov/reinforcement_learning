{
 "cells": [
  {
   "cell_type": "markdown",
   "id": "4e4f36f1-748f-4f4e-b78b-e0b9a385bc42",
   "metadata": {},
   "source": [
    "# Обучение Taxi-v3 из Gymnasium при помощи кросс-энтропийного метода\n",
    "\n",
    "Ноутбук сделан на основе материалов практического задания [курса](https://ods.ai/tracks/drlcourse23/tasks/drl23_hw_1).\n",
    "Проделан собственный эксперимент: динамический параметр q, отвечающий за долю лучших траекторий для обучения."
   ]
  },
  {
   "cell_type": "code",
   "execution_count": 1,
   "id": "b2acb639-2744-415b-993a-cbc92532436a",
   "metadata": {},
   "outputs": [
    {
     "data": {
      "text/plain": [
       "hydra.initialize()"
      ]
     },
     "execution_count": 1,
     "metadata": {},
     "output_type": "execute_result"
    }
   ],
   "source": [
    "import gym\n",
    "import numpy as np\n",
    "from src.agents import CrossEntropyAgent\n",
    "from src.utils import get_trajectory, evaluate_agent\n",
    "from hydra import compose, initialize\n",
    "\n",
    "\n",
    "config_path = 'configs/taxiv3/'\n",
    "initialize(version_base=None, config_path=config_path)"
   ]
  },
  {
   "cell_type": "markdown",
   "id": "eb42706f-74d4-4365-844b-509e342b2e67",
   "metadata": {},
   "source": [
    "## Бейзлайн: константный q_param"
   ]
  },
  {
   "cell_type": "code",
   "execution_count": 2,
   "id": "6ae6068d-ea00-49b7-bec8-0134569099d2",
   "metadata": {},
   "outputs": [
    {
     "name": "stdout",
     "output_type": "stream",
     "text": [
      "iteration: 0 mean total reward: -768.189\n",
      "iteration: 1 mean total reward: -690.4\n",
      "iteration: 2 mean total reward: -600.454\n",
      "iteration: 3 mean total reward: -494.388\n",
      "iteration: 4 mean total reward: -333.726\n",
      "iteration: 5 mean total reward: -177.77\n",
      "iteration: 6 mean total reward: -96.065\n",
      "iteration: 7 mean total reward: -50.389\n",
      "iteration: 8 mean total reward: -22.977\n",
      "iteration: 9 mean total reward: -5.707\n",
      "iteration: 10 mean total reward: 3.13\n",
      "iteration: 11 mean total reward: 5.342\n",
      "iteration: 12 mean total reward: 6.258\n",
      "iteration: 13 mean total reward: 6.728\n",
      "iteration: 14 mean total reward: 6.739\n",
      "iteration: 15 mean total reward: 7.102\n",
      "iteration: 16 mean total reward: 6.647\n",
      "iteration: 17 mean total reward: 7.151\n",
      "iteration: 18 mean total reward: 7.148\n",
      "iteration: 19 mean total reward: 7.41\n",
      "iteration: 20 mean total reward: 6.97\n",
      "iteration: 21 mean total reward: 7.124\n",
      "iteration: 22 mean total reward: 7.435\n",
      "iteration: 23 mean total reward: 7.502\n",
      "iteration: 24 mean total reward: 7.171\n",
      "iteration: 25 mean total reward: 7.342\n",
      "iteration: 26 mean total reward: 7.173\n",
      "iteration: 27 mean total reward: 7.232\n",
      "iteration: 28 mean total reward: 7.074\n",
      "iteration: 29 mean total reward: 7.25\n",
      "iteration: 30 mean total reward: 7.228\n",
      "iteration: 31 mean total reward: 7.297\n",
      "iteration: 32 mean total reward: 7.321\n",
      "iteration: 33 mean total reward: 7.186\n",
      "iteration: 34 mean total reward: 7.407\n",
      "iteration: 35 mean total reward: 7.452\n",
      "iteration: 36 mean total reward: 7.102\n",
      "iteration: 37 mean total reward: 7.417\n",
      "iteration: 38 mean total reward: 7.371\n",
      "iteration: 39 mean total reward: 7.168\n",
      "iteration: 40 mean total reward: 7.2\n",
      "iteration: 41 mean total reward: 7.329\n",
      "iteration: 42 mean total reward: 7.238\n",
      "iteration: 43 mean total reward: 7.105\n",
      "iteration: 44 mean total reward: 7.268\n",
      "iteration: 45 mean total reward: 7.049\n",
      "iteration: 46 mean total reward: 7.311\n",
      "iteration: 47 mean total reward: 7.397\n",
      "iteration: 48 mean total reward: 7.31\n",
      "iteration: 49 mean total reward: 7.43\n"
     ]
    }
   ],
   "source": [
    "cfg = compose(config_name=\"exp_default\")\n",
    "\n",
    "env = gym.make(cfg.env.name)\n",
    "state_n = cfg.env.state_n\n",
    "action_n = cfg.env.action_n\n",
    "\n",
    "\n",
    "agent = CrossEntropyAgent(state_n, action_n)\n",
    "q_param = cfg.params.q_param\n",
    "iteration_n = cfg.params.iteration_n\n",
    "trajectory_n = cfg.params.trajectory_n\n",
    "\n",
    "for iteration in range(iteration_n):\n",
    "    #policy evaluation\n",
    "    trajectories = [get_trajectory(env, agent) for _ in range(trajectory_n)]\n",
    "    total_rewards = [np.sum(trajectory['rewards']) for trajectory in trajectories]\n",
    "    print('iteration:', iteration, 'mean total reward:', np.mean(total_rewards))\n",
    "\n",
    "    #policy improvement\n",
    "    quantile = np.quantile(total_rewards, q_param)\n",
    "    elite_trajectories = []\n",
    "    for trajectory in trajectories:\n",
    "        total_reward = np.sum(trajectory['rewards'])\n",
    "        if total_reward > quantile:\n",
    "            elite_trajectories.append(trajectory)\n",
    "\n",
    "    agent.fit(elite_trajectories)"
   ]
  },
  {
   "cell_type": "code",
   "execution_count": 3,
   "id": "c0acb08d-ed7c-453a-96b7-27228cb8ab07",
   "metadata": {},
   "outputs": [
    {
     "name": "stdout",
     "output_type": "stream",
     "text": [
      "total reward: 7\n",
      "model:\n",
      "[[0.16666667 0.16666667 0.16666667 0.16666667 0.16666667 0.16666667]\n",
      " [0.         0.         0.         0.         1.         0.        ]\n",
      " [0.         0.         0.         0.         1.         0.        ]\n",
      " ...\n",
      " [0.         0.25       0.         0.5        0.25       0.        ]\n",
      " [0.         1.         0.         0.         0.         0.        ]\n",
      " [0.         0.         0.         1.         0.         0.        ]]\n"
     ]
    }
   ],
   "source": [
    "trajectory = get_trajectory(env, agent, max_len=cfg.params.trajectory.max_len)\n",
    "print('total reward:', sum(trajectory['rewards']))\n",
    "print('model:')\n",
    "print(agent.model)"
   ]
  },
  {
   "cell_type": "code",
   "execution_count": 4,
   "id": "9acea602-6dd2-433f-ba41-003640cf11df",
   "metadata": {},
   "outputs": [
    {
     "name": "stdout",
     "output_type": "stream",
     "text": [
      "Reward: 7.32±4.9\n"
     ]
    }
   ],
   "source": [
    "mean, std = evaluate_agent(env, agent, 10000)\n",
    "print(f'Reward: {mean.round(2)}±{std.round(2)}')"
   ]
  },
  {
   "cell_type": "markdown",
   "id": "2e415559-7da5-41b0-bde3-c0da57db2a9a",
   "metadata": {},
   "source": [
    "## Пробуем улучшение: линейно увеличиваем q_param с каждой итерацией"
   ]
  },
  {
   "cell_type": "code",
   "execution_count": 9,
   "id": "22fecee8-4602-4954-9e18-f1f6a3044fce",
   "metadata": {},
   "outputs": [
    {
     "name": "stdout",
     "output_type": "stream",
     "text": [
      "iteration: 0 mean total reward: -774.525\n",
      "iteration: 1 mean total reward: -706.394\n",
      "iteration: 2 mean total reward: -635.415\n",
      "iteration: 3 mean total reward: -544.687\n",
      "iteration: 4 mean total reward: -433.251\n",
      "iteration: 5 mean total reward: -302.729\n",
      "iteration: 6 mean total reward: -171.996\n",
      "iteration: 7 mean total reward: -94.623\n",
      "iteration: 8 mean total reward: -48.965\n",
      "iteration: 9 mean total reward: -21.567\n",
      "iteration: 10 mean total reward: -5.809\n",
      "iteration: 11 mean total reward: 1.792\n",
      "iteration: 12 mean total reward: 4.913\n",
      "iteration: 13 mean total reward: 6.455\n",
      "iteration: 14 mean total reward: 6.983\n",
      "iteration: 15 mean total reward: 7.095\n",
      "iteration: 16 mean total reward: 7.421\n",
      "iteration: 17 mean total reward: 7.274\n",
      "iteration: 18 mean total reward: 7.274\n",
      "iteration: 19 mean total reward: 7.335\n",
      "iteration: 20 mean total reward: 7.339\n",
      "iteration: 21 mean total reward: 7.509\n",
      "iteration: 22 mean total reward: 7.495\n",
      "iteration: 23 mean total reward: 7.448\n",
      "iteration: 24 mean total reward: 7.374\n",
      "iteration: 25 mean total reward: 7.516\n",
      "iteration: 26 mean total reward: 7.693\n",
      "iteration: 27 mean total reward: 7.553\n",
      "iteration: 28 mean total reward: 7.391\n",
      "iteration: 29 mean total reward: 7.5\n",
      "iteration: 30 mean total reward: 7.515\n",
      "iteration: 31 mean total reward: 7.422\n",
      "iteration: 32 mean total reward: 7.53\n",
      "iteration: 33 mean total reward: 7.417\n",
      "iteration: 34 mean total reward: 7.514\n",
      "iteration: 35 mean total reward: 7.585\n",
      "iteration: 36 mean total reward: 7.494\n",
      "iteration: 37 mean total reward: 7.612\n",
      "iteration: 38 mean total reward: 7.616\n",
      "iteration: 39 mean total reward: 7.695\n",
      "iteration: 40 mean total reward: 7.673\n",
      "iteration: 41 mean total reward: 7.601\n",
      "iteration: 42 mean total reward: 7.546\n",
      "iteration: 43 mean total reward: 7.606\n",
      "iteration: 44 mean total reward: 7.582\n",
      "iteration: 45 mean total reward: 7.454\n",
      "iteration: 46 mean total reward: 7.541\n",
      "iteration: 47 mean total reward: 7.582\n",
      "iteration: 48 mean total reward: 7.658\n",
      "iteration: 49 mean total reward: 7.586\n"
     ]
    }
   ],
   "source": [
    "cfg = compose(config_name=\"exp_dynamic_q\")\n",
    "env = gym.make(cfg.env.name)\n",
    "state_n = cfg.env.state_n\n",
    "action_n = cfg.env.action_n\n",
    "\n",
    "\n",
    "agent = CrossEntropyAgent(state_n, action_n)\n",
    "initial_q = cfg.params.initial_q\n",
    "end_q = cfg.params.end_q\n",
    "iteration_n = cfg.params.iteration_n\n",
    "trajectory_n = cfg.params.trajectory_n\n",
    "\n",
    "qs = np.linspace(initial_q, end_q, iteration_n)\n",
    "for iteration in range(iteration_n):\n",
    "\n",
    "    #policy evaluation\n",
    "    trajectories = [get_trajectory(env, agent) for _ in range(trajectory_n)]\n",
    "    total_rewards = [np.sum(trajectory['rewards']) for trajectory in trajectories]\n",
    "    print('iteration:', iteration, 'mean total reward:', np.mean(total_rewards))\n",
    "\n",
    "    #policy improvement\n",
    "    quantile = np.quantile(total_rewards, qs[iteration])\n",
    "    elite_trajectories = []\n",
    "    for trajectory in trajectories:\n",
    "        total_reward = np.sum(trajectory['rewards'])\n",
    "        if total_reward > quantile:\n",
    "            elite_trajectories.append(trajectory)\n",
    "\n",
    "    agent.fit(elite_trajectories)"
   ]
  },
  {
   "cell_type": "code",
   "execution_count": 10,
   "id": "ca32085c-2ffe-4cc0-ab69-53833d8d96ee",
   "metadata": {},
   "outputs": [
    {
     "name": "stdout",
     "output_type": "stream",
     "text": [
      "Reward: 7.53±3.12\n"
     ]
    }
   ],
   "source": [
    "mean, std = evaluate_agent(env, agent, 10000)\n",
    "print(f'Reward: {mean.round(2)}±{std.round(2)}')"
   ]
  },
  {
   "cell_type": "markdown",
   "id": "ddc5a946-1b85-44f5-8253-d849d487384c",
   "metadata": {},
   "source": [
    "Немного выросло среднее вознаграждение и уменьшился его разброс"
   ]
  },
  {
   "cell_type": "code",
   "execution_count": null,
   "id": "8f89ce11-52a5-4caa-a9c3-caf6f40dd6d3",
   "metadata": {},
   "outputs": [],
   "source": []
  }
 ],
 "metadata": {
  "kernelspec": {
   "display_name": "RLenv",
   "language": "python",
   "name": "rlenv"
  },
  "language_info": {
   "codemirror_mode": {
    "name": "ipython",
    "version": 3
   },
   "file_extension": ".py",
   "mimetype": "text/x-python",
   "name": "python",
   "nbconvert_exporter": "python",
   "pygments_lexer": "ipython3",
   "version": "3.10.9"
  }
 },
 "nbformat": 4,
 "nbformat_minor": 5
}
