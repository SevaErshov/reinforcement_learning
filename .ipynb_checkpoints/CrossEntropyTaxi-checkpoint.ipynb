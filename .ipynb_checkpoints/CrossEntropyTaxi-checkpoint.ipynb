{
 "cells": [
  {
   "cell_type": "code",
   "execution_count": 51,
   "id": "b2acb639-2744-415b-993a-cbc92532436a",
   "metadata": {},
   "outputs": [
    {
     "name": "stdout",
     "output_type": "stream",
     "text": [
      "iteration: 0 mean total reward: -765.514\n",
      "iteration: 1 mean total reward: -645.681\n",
      "iteration: 2 mean total reward: -469.385\n",
      "iteration: 3 mean total reward: -232.975\n",
      "iteration: 4 mean total reward: -95.853\n",
      "iteration: 5 mean total reward: -39.17\n",
      "iteration: 6 mean total reward: -13.408\n",
      "iteration: 7 mean total reward: 0.209\n",
      "iteration: 8 mean total reward: 2.984\n",
      "iteration: 9 mean total reward: 3.949\n",
      "iteration: 10 mean total reward: 4.478\n",
      "iteration: 11 mean total reward: 5.324\n",
      "iteration: 12 mean total reward: 4.315\n",
      "iteration: 13 mean total reward: 4.986\n",
      "iteration: 14 mean total reward: 5.029\n",
      "iteration: 15 mean total reward: 5.888\n",
      "iteration: 16 mean total reward: 5.033\n",
      "iteration: 17 mean total reward: 5.514\n",
      "iteration: 18 mean total reward: 4.632\n",
      "iteration: 19 mean total reward: 4.809\n",
      "total reward: 6\n",
      "model:\n",
      "[[0.16666667 0.16666667 0.16666667 0.16666667 0.16666667 0.16666667]\n",
      " [0.         0.         0.         0.         1.         0.        ]\n",
      " [0.         0.         0.         0.         1.         0.        ]\n",
      " ...\n",
      " [0.         1.         0.         0.         0.         0.        ]\n",
      " [0.         0.         0.         1.         0.         0.        ]\n",
      " [0.         0.         0.         1.         0.         0.        ]]\n"
     ]
    }
   ],
   "source": [
    "import gym\n",
    "import numpy as np\n",
    "import time\n",
    "\n",
    "\n",
    "env = gym.make(\"Taxi-v3\")\n",
    "state_n = 500\n",
    "action_n = 6\n",
    "\n",
    "\n",
    "class CrossEntropyAgent():\n",
    "    def __init__(self, state_n, action_n):\n",
    "        self.state_n = state_n\n",
    "        self.action_n = action_n\n",
    "        self.model = np.ones((self.state_n, self.action_n)) / self.action_n\n",
    "\n",
    "    def get_action(self, state, info):\n",
    "        action = np.random.choice(np.arange(self.action_n), p=self.model[state])\n",
    "        return int(action)\n",
    "\n",
    "    def fit(self, elite_trajectories):\n",
    "        new_model = np.zeros((self.state_n, self.action_n))\n",
    "        for trajectory in elite_trajectories:\n",
    "            for state, action in zip(trajectory['states'], trajectory['actions']):\n",
    "                new_model[state][action] += 1\n",
    "\n",
    "        for state in range(self.state_n):\n",
    "            if np.sum(new_model[state]) > 0:\n",
    "                new_model[state] /= np.sum(new_model[state])\n",
    "            else:\n",
    "                new_model[state] = self.model[state].copy()\n",
    "\n",
    "        self.model = new_model\n",
    "        return None\n",
    "\n",
    "    \n",
    "def get_trajectory(env, agent, max_len=1000, visualize=False):\n",
    "    trajectory = {'states': [], 'actions': [], 'rewards': []}\n",
    "\n",
    "    state, info = env.reset()\n",
    "\n",
    "    for _ in range(max_len):\n",
    "        trajectory['states'].append(state)\n",
    "        \n",
    "        action = agent.get_action(state, info)\n",
    "        trajectory['actions'].append(action)\n",
    "        \n",
    "        state, reward, terminated, truncated, info = env.step(action)\n",
    "        trajectory['rewards'].append(reward)\n",
    "        \n",
    "        if visualize:\n",
    "            time.sleep(0.5)\n",
    "            env.render()\n",
    "        \n",
    "        if terminated or truncated:\n",
    "            break\n",
    "    \n",
    "    return trajectory\n",
    "\n",
    "\n",
    "agent = CrossEntropyAgent(state_n, action_n)\n",
    "q_param = 0.75\n",
    "iteration_n = 20\n",
    "trajectory_n = 1000\n",
    "\n",
    "for iteration in range(iteration_n):\n",
    "\n",
    "    #policy evaluation\n",
    "    trajectories = [get_trajectory(env, agent) for _ in range(trajectory_n)]\n",
    "    total_rewards = [np.sum(trajectory['rewards']) for trajectory in trajectories]\n",
    "    print('iteration:', iteration, 'mean total reward:', np.mean(total_rewards))\n",
    "\n",
    "    #policy improvement\n",
    "    quantile = np.quantile(total_rewards, q_param)\n",
    "    elite_trajectories = []\n",
    "    for trajectory in trajectories:\n",
    "        total_reward = np.sum(trajectory['rewards'])\n",
    "        if total_reward > quantile:\n",
    "            elite_trajectories.append(trajectory)\n",
    "\n",
    "    agent.fit(elite_trajectories)\n",
    "\n",
    "trajectory = get_trajectory(env, agent, max_len=100, visualize=False)\n",
    "print('total reward:', sum(trajectory['rewards']))\n",
    "print('model:')\n",
    "print(agent.model)"
   ]
  },
  {
   "cell_type": "code",
   "execution_count": 61,
   "id": "9acea602-6dd2-433f-ba41-003640cf11df",
   "metadata": {},
   "outputs": [],
   "source": [
    "def eval(env, agent, iteration_n=10):\n",
    "    total_rewards = []\n",
    "    for _ in range(iteration_n):\n",
    "        rewards = get_trajectory(env, agent)['rewards']\n",
    "        total_rewards.append(np.sum(rewards))\n",
    "        \n",
    "    return np.mean(total_rewards), np.std(total_rewards)"
   ]
  },
  {
   "cell_type": "code",
   "execution_count": 62,
   "id": "414824da-84fa-4ed1-ad48-c03646ded8cf",
   "metadata": {},
   "outputs": [
    {
     "data": {
      "text/plain": [
       "(5.6, 5.589275444992848)"
      ]
     },
     "execution_count": 62,
     "metadata": {},
     "output_type": "execute_result"
    }
   ],
   "source": [
    "eval(env, agent)"
   ]
  },
  {
   "cell_type": "code",
   "execution_count": null,
   "id": "faaf2ea5-4f24-425d-ad0c-ae735755412a",
   "metadata": {},
   "outputs": [],
   "source": []
  }
 ],
 "metadata": {
  "kernelspec": {
   "display_name": "RLenv",
   "language": "python",
   "name": "rlenv"
  },
  "language_info": {
   "codemirror_mode": {
    "name": "ipython",
    "version": 3
   },
   "file_extension": ".py",
   "mimetype": "text/x-python",
   "name": "python",
   "nbconvert_exporter": "python",
   "pygments_lexer": "ipython3",
   "version": "3.10.9"
  }
 },
 "nbformat": 4,
 "nbformat_minor": 5
}
